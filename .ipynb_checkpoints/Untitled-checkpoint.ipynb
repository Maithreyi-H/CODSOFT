{
 "cells": [
  {
   "cell_type": "code",
   "execution_count": null,
   "id": "e74cc86c-8818-4905-b1ff-40c56cb16359",
   "metadata": {},
   "outputs": [],
   "source": []
  }
 ],
 "metadata": {
  "kernelspec": {
   "display_name": "",
   "name": ""
  },
  "language_info": {
   "name": ""
  }
 },
 "nbformat": 4,
 "nbformat_minor": 5
}
